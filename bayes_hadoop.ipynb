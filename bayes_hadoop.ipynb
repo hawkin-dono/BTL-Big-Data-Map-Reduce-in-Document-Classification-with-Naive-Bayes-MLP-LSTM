{
 "cells": [
  {
   "cell_type": "code",
   "execution_count": 1,
   "metadata": {},
   "outputs": [],
   "source": [
    "from bayes_hadoop.set_cwd import set_cwd\n",
    "set_cwd()"
   ]
  },
  {
   "cell_type": "code",
   "execution_count": 2,
   "metadata": {},
   "outputs": [],
   "source": [
    "import subprocess\n",
    "import os\n",
    "import bayes_hadoop.config as cf\n",
    "import json\n",
    "from typing import Literal\n",
    "cwd = os.getcwd()\n"
   ]
  },
  {
   "cell_type": "code",
   "execution_count": 3,
   "metadata": {},
   "outputs": [],
   "source": [
    "def fit():\n",
    "    cwd = os.getcwd()\n",
    "    cmds = [\"cd bayes_hadoop\",\"python run.py\",\"cd ..\"]\n",
    "    result = subprocess.run(\n",
    "        \" && \".join(cmds), shell=True, cwd=cwd, capture_output=True, text=True\n",
    "    )\n",
    "    print(result.stdout)\n",
    "    print(result.stderr)\n",
    "    path = os.path.join(cf.ABS_OUTPUT_PATH, \"evaluate.json\")\n",
    "    result = []\n",
    "    with open(path, 'r') as file:\n",
    "        result = json.loads(file.read())\n",
    "    return result\n",
    "def re_evaluate():\n",
    "    cwd = os.getcwd()\n",
    "    cmds = [\"cd bayes_hadoop\",\"python eval.py\",\"cd ..\"]\n",
    "    result = subprocess.run(\" && \".join(cmds), shell=True, cwd=cwd, capture_output=True, text=True)\n",
    "    path = os.path.join(cf.ABS_OUTPUT_PATH, \"evaluate.json\")\n",
    "    result = []\n",
    "    with open(path, 'r') as file:\n",
    "        result = json.loads(file.read())\n",
    "    return result\n",
    "def inter_text(text: str):\n",
    "    data = text + \",0,empty\"\n",
    "    path = cf.TEMP_INPUT_PATH\n",
    "    with open(path, 'w') as file: file.write(data)\n",
    "\n",
    "    cmds = [\"cd bayes_hadoop\",\"python infer_temp.py\",\"cd ..\"]\n",
    "    result = subprocess.run(\" && \".join(cmds), shell=True, cwd=cwd, capture_output=True, text=True)\n",
    "    path = os.path.join(cf.ABS_OUTPUT_PATH, \"infer_result.json\")\n",
    "    with open(path, 'r') as file:\n",
    "        result = json.loads(file.read())\n",
    "    return result[1]"
   ]
  },
  {
   "cell_type": "code",
   "execution_count": 4,
   "metadata": {},
   "outputs": [
    {
     "name": "stdout",
     "output_type": "stream",
     "text": [
      "Train time 79.50214266777039 s\n",
      "\n",
      "WARNING:mrjob.conf:No configs specified for inline runner\n",
      "WARNING:mrjob.conf:No configs specified for inline runner\n",
      "\n",
      "{'correct': 6838, 'count': 7600, 'accuracy': 0.8997368421052632, 'metadata': {'smooth_value': 1, 'vocab_size': 91344}}\n"
     ]
    }
   ],
   "source": [
    "result = fit()\n",
    "print(result)"
   ]
  },
  {
   "cell_type": "code",
   "execution_count": 5,
   "metadata": {},
   "outputs": [
    {
     "name": "stdout",
     "output_type": "stream",
     "text": [
      "{'correct': 6838, 'count': 7600, 'accuracy': 0.8997368421052632, 'metadata': {'smooth_value': 1, 'vocab_size': 91344}}\n"
     ]
    }
   ],
   "source": [
    "result = re_evaluate()\n",
    "print(result)"
   ]
  },
  {
   "cell_type": "code",
   "execution_count": 6,
   "metadata": {},
   "outputs": [
    {
     "name": "stdout",
     "output_type": "stream",
     "text": [
      "{'predict': 'Sports', 'target': 'empty', 'prob': 1.0, 'logits': {'Business': -234.74589934005905, 'Sci_Tech': -232.76098652366872, 'Sports': -196.08426857841118, 'World': -228.86062155181259}}\n"
     ]
    }
   ],
   "source": [
    "text = \"Bobcats Trade Drobnjak to Hawks for Pick (AP) AP - The Charlotte Bobcats traded center Predrag Drobnjak to the Atlanta Hawks on Monday for a second round pick in the 2005 NBA draft.,\"\n",
    "result = inter_text(text)\n",
    "print(result)"
   ]
  },
  {
   "cell_type": "code",
   "execution_count": null,
   "metadata": {},
   "outputs": [],
   "source": []
  }
 ],
 "metadata": {
  "kernelspec": {
   "display_name": "big_data",
   "language": "python",
   "name": "python3"
  },
  "language_info": {
   "codemirror_mode": {
    "name": "ipython",
    "version": 3
   },
   "file_extension": ".py",
   "mimetype": "text/x-python",
   "name": "python",
   "nbconvert_exporter": "python",
   "pygments_lexer": "ipython3",
   "version": "3.12.8"
  }
 },
 "nbformat": 4,
 "nbformat_minor": 2
}
