{
 "cells": [
  {
   "cell_type": "code",
   "execution_count": 1,
   "metadata": {},
   "outputs": [],
   "source": [
    "from mlp.set_cwd import set_cwd\n",
    "set_cwd()"
   ]
  },
  {
   "cell_type": "code",
   "execution_count": 2,
   "metadata": {},
   "outputs": [],
   "source": [
    "import subprocess\n",
    "import os\n",
    "import mlp.config as cf\n",
    "import json\n",
    "from typing import Literal\n",
    "cwd = os.getcwd()\n"
   ]
  },
  {
   "cell_type": "code",
   "execution_count": 3,
   "metadata": {},
   "outputs": [],
   "source": [
    "def fit():\n",
    "    cwd = os.getcwd()\n",
    "    cmds = [\"cd mlp\",\"python run.py\",\"cd ..\"]\n",
    "    result = subprocess.run(\n",
    "        \" && \".join(cmds), shell=True, cwd=cwd, capture_output=True, text=True\n",
    "    )\n",
    "    print(result.stdout)\n",
    "    print(result.stderr)\n",
    "    path = os.path.join(cf.ABS_OUTPUT_PATH, \"evaluate.json\")\n",
    "    result = []\n",
    "    with open(path, 'r') as file:\n",
    "        result = json.loads(file.read())\n",
    "    return result\n",
    "def re_evaluate():\n",
    "    cwd = os.getcwd()\n",
    "    cmds = [\"cd mlp\",\"python eval.py\",\"cd ..\"]\n",
    "    result = subprocess.run(\" && \".join(cmds), shell=True, cwd=cwd, capture_output=True, text=True)\n",
    "    path = os.path.join(cf.ABS_OUTPUT_PATH, \"evaluate.json\")\n",
    "    result = []\n",
    "    with open(path, 'r') as file:\n",
    "        result = json.loads(file.read())\n",
    "    return result\n",
    "def inter_text(text: str):\n",
    "    data = text + \",0,empty\"\n",
    "    path = cf.TEMP_INPUT_PATH\n",
    "    with open(path, 'w') as file: file.write(data)\n",
    "\n",
    "    cmds = [\"cd mlp\",\"python infer_temp.py\",\"cd ..\"]\n",
    "    result = subprocess.run(\" && \".join(cmds), shell=True, cwd=cwd, capture_output=True, text=True)\n",
    "    path = os.path.join(cf.ABS_OUTPUT_PATH, \"infer_result.json\")\n",
    "    with open(path, 'r') as file:\n",
    "        result = json.loads(file.read())\n",
    "    return result"
   ]
  },
  {
   "cell_type": "code",
   "execution_count": 4,
   "metadata": {},
   "outputs": [
    {
     "name": "stdout",
     "output_type": "stream",
     "text": [
      "Epoch: 1\n",
      "Train time 44.047186613082886 s\n",
      "Epoch: 2\n",
      "Train time 41.283292055130005 s\n",
      "Epoch: 3\n",
      "Train time 41.426780462265015 s\n",
      "Epoch: 4\n",
      "Train time 41.56770420074463 s\n",
      "Epoch: 5\n",
      "Train time 40.46965312957764 s\n",
      "\n",
      "WARNING:mrjob.conf:No configs specified for inline runner\n",
      "WARNING:mrjob.conf:No configs specified for inline runner\n",
      "WARNING:mrjob.conf:No configs specified for inline runner\n",
      "DEBUG:root:**********************END**********************\n",
      "WARNING:mrjob.conf:No configs specified for inline runner\n",
      "DEBUG:root:**********************END**********************\n",
      "WARNING:mrjob.conf:No configs specified for inline runner\n",
      "DEBUG:root:**********************END**********************\n",
      "WARNING:mrjob.conf:No configs specified for inline runner\n",
      "DEBUG:root:**********************END**********************\n",
      "WARNING:mrjob.conf:No configs specified for inline runner\n",
      "DEBUG:root:**********************END**********************\n",
      "WARNING:mrjob.conf:No configs specified for inline runner\n",
      "DEBUG:root:**********************END**********************\n",
      "WARNING:mrjob.conf:No configs specified for inline runner\n",
      "DEBUG:root:**********************END**********************\n",
      "WARNING:mrjob.conf:No configs specified for inline runner\n",
      "DEBUG:root:**********************END**********************\n",
      "WARNING:mrjob.conf:No configs specified for inline runner\n",
      "DEBUG:root:**********************END**********************\n",
      "WARNING:mrjob.conf:No configs specified for inline runner\n",
      "DEBUG:root:**********************END**********************\n",
      "\n",
      "{'1': {'loss': 1.4832293436860327, 'accuracy': 0.250001212896103}, '2': {'loss': 1.4080364978052644, 'accuracy': 0.25003532190055655}, '3': {'loss': 1.378269066938064, 'accuracy': 0.3815971931394256}, '4': {'loss': 1.3724811370163537, 'accuracy': 0.4135247081133233}, '5': {'loss': 1.3101092522226419, 'accuracy': 0.41597534866286157}}\n"
     ]
    }
   ],
   "source": [
    "result = fit()\n",
    "print(result)"
   ]
  },
  {
   "cell_type": "code",
   "execution_count": 5,
   "metadata": {},
   "outputs": [
    {
     "name": "stdout",
     "output_type": "stream",
     "text": [
      "{'1': {'loss': 1.4832293436860327, 'accuracy': 0.250001212896103}, '2': {'loss': 1.4080364978052644, 'accuracy': 0.25003532190055655}, '3': {'loss': 1.378269066938064, 'accuracy': 0.3815971931394256}, '4': {'loss': 1.3724811370163537, 'accuracy': 0.4135247081133233}, '5': {'loss': 1.3101092522226419, 'accuracy': 0.41597534866286157}}\n"
     ]
    }
   ],
   "source": [
    "result = re_evaluate()\n",
    "print(result)"
   ]
  },
  {
   "cell_type": "code",
   "execution_count": 6,
   "metadata": {},
   "outputs": [
    {
     "name": "stdout",
     "output_type": "stream",
     "text": [
      "[{'true': 0, 'predicted': 1, 'probs': [0.1846459007587917, 0.34810327975313576, 0.26587359575454705, 0.20137722373352546]}]\n"
     ]
    }
   ],
   "source": [
    "text = \"Bobcats Trade Drobnjak to Hawks for Pick (AP) AP - The Charlotte Bobcats traded center Predrag Drobnjak to the Atlanta Hawks on Monday for a second round pick in the 2005 NBA draft.,\"\n",
    "result = inter_text(text)\n",
    "print(result['detail'])"
   ]
  },
  {
   "cell_type": "code",
   "execution_count": null,
   "metadata": {},
   "outputs": [],
   "source": []
  }
 ],
 "metadata": {
  "kernelspec": {
   "display_name": "big_data",
   "language": "python",
   "name": "python3"
  },
  "language_info": {
   "codemirror_mode": {
    "name": "ipython",
    "version": 3
   },
   "file_extension": ".py",
   "mimetype": "text/x-python",
   "name": "python",
   "nbconvert_exporter": "python",
   "pygments_lexer": "ipython3",
   "version": "3.12.8"
  }
 },
 "nbformat": 4,
 "nbformat_minor": 2
}
