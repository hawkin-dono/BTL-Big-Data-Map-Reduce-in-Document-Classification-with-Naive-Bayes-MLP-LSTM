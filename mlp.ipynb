{
 "cells": [
  {
   "cell_type": "code",
   "execution_count": 1,
   "metadata": {},
   "outputs": [],
   "source": [
    "from mlp.set_cwd import set_cwd\n",
    "set_cwd()"
   ]
  },
  {
   "cell_type": "code",
   "execution_count": 2,
   "metadata": {},
   "outputs": [],
   "source": [
    "import subprocess\n",
    "import os\n",
    "import mlp.config as cf\n",
    "import json\n",
    "from typing import Literal\n",
    "cwd = os.getcwd()\n"
   ]
  },
  {
   "cell_type": "code",
   "execution_count": null,
   "metadata": {},
   "outputs": [],
   "source": [
    "def fit():\n",
    "    cwd = os.getcwd()\n",
    "    cmds = [\"cd mlp\",\"python3 run.py\",\"cd ..\"]\n",
    "    result = subprocess.run(\n",
    "        \" && \".join(cmds), shell=True, cwd=cwd, capture_output=True, text=True\n",
    "    )\n",
    "    print(result.stdout)\n",
    "    print(result.stderr)\n",
    "    path = os.path.join(cf.ABS_OUTPUT_PATH, \"evaluate.json\")\n",
    "    result = []\n",
    "    with open(path, 'r') as file:\n",
    "        result = json.loads(file.read())\n",
    "    return result\n",
    "def re_evaluate():\n",
    "    cwd = os.getcwd()\n",
    "    cmds = [\"cd mlp\",\"python3 eval.py\",\"cd ..\"]\n",
    "    result = subprocess.run(\" && \".join(cmds), shell=True, cwd=cwd, capture_output=True, text=True)\n",
    "    path = os.path.join(cf.ABS_OUTPUT_PATH, \"evaluate.json\")\n",
    "    result = []\n",
    "    with open(path, 'r') as file:\n",
    "        result = json.loads(file.read())\n",
    "    return result\n",
    "def inter_text(text: str):\n",
    "    data = text + \",0,empty\"\n",
    "    path = cf.TEMP_INPUT_PATH\n",
    "    with open(path, 'w') as file: file.write(data)\n",
    "\n",
    "    cmds = [\"cd mlp\",\"python3 infer_temp.py\",\"cd ..\"]\n",
    "    result = subprocess.run(\" && \".join(cmds), shell=True, cwd=cwd, capture_output=True, text=True)\n",
    "    path = os.path.join(cf.ABS_OUTPUT_PATH, \"infer_result.json\")\n",
    "    with open(path, 'r') as file:\n",
    "        result = json.loads(file.read())\n",
    "    return result"
   ]
  },
  {
   "cell_type": "code",
   "execution_count": 4,
   "metadata": {},
   "outputs": [
    {
     "name": "stdout",
     "output_type": "stream",
     "text": [
      "Epoch: 1\n",
      "Train time 35.745068073272705 s\n",
      "Epoch: 2\n",
      "Train time 42.29658484458923 s\n",
      "Epoch: 3\n",
      "Train time 24.63535499572754 s\n",
      "Epoch: 4\n",
      "Train time 24.753530740737915 s\n",
      "Epoch: 5\n",
      "Train time 24.980808973312378 s\n",
      "\n",
      "WARNING:mrjob.conf:No configs specified for inline runner\n",
      "WARNING:mrjob.conf:No configs specified for inline runner\n",
      "WARNING:mrjob.conf:No configs specified for inline runner\n",
      "DEBUG:root:**********************END**********************\n",
      "WARNING:mrjob.conf:No configs specified for inline runner\n",
      "DEBUG:root:**********************END**********************\n",
      "WARNING:mrjob.conf:No configs specified for inline runner\n",
      "DEBUG:root:**********************END**********************\n",
      "WARNING:mrjob.conf:No configs specified for inline runner\n",
      "DEBUG:root:**********************END**********************\n",
      "WARNING:mrjob.conf:No configs specified for inline runner\n",
      "DEBUG:root:**********************END**********************\n",
      "WARNING:mrjob.conf:No configs specified for inline runner\n",
      "DEBUG:root:**********************END**********************\n",
      "WARNING:mrjob.conf:No configs specified for inline runner\n",
      "DEBUG:root:**********************END**********************\n",
      "WARNING:mrjob.conf:No configs specified for inline runner\n",
      "DEBUG:root:**********************END**********************\n",
      "WARNING:mrjob.conf:No configs specified for inline runner\n",
      "DEBUG:root:**********************END**********************\n",
      "WARNING:mrjob.conf:No configs specified for inline runner\n",
      "DEBUG:root:**********************END**********************\n",
      "\n",
      "{'1': {'loss': 1.414435951045181, 'accuracy': 0.24986019929910724}, '2': {'loss': 1.48855000960146, 'accuracy': 0.31364867703632954}, '3': {'loss': 1.4592717492642715, 'accuracy': 0.2499808416029089}, '4': {'loss': 1.3516882888808166, 'accuracy': 0.2499808416029089}, '5': {'loss': 1.302236611752746, 'accuracy': 0.4833100881132605}}\n"
     ]
    }
   ],
   "source": [
    "result = fit()\n",
    "print(result)"
   ]
  },
  {
   "cell_type": "code",
   "execution_count": 5,
   "metadata": {},
   "outputs": [
    {
     "name": "stdout",
     "output_type": "stream",
     "text": [
      "{'1': {'loss': 1.414435951045181, 'accuracy': 0.24986019929910724}, '2': {'loss': 1.48855000960146, 'accuracy': 0.31364867703632954}, '3': {'loss': 1.4592717492642715, 'accuracy': 0.2499808416029089}, '4': {'loss': 1.3516882888808166, 'accuracy': 0.2499808416029089}, '5': {'loss': 1.302236611752746, 'accuracy': 0.4833100881132605}}\n"
     ]
    }
   ],
   "source": [
    "result = re_evaluate()\n",
    "print(result)"
   ]
  },
  {
   "cell_type": "code",
   "execution_count": 6,
   "metadata": {},
   "outputs": [
    {
     "name": "stdout",
     "output_type": "stream",
     "text": [
      "[{'true': 0, 'predicted': 1, 'probs': [0.2792635883194634, 0.33932870460646336, 0.17852308906301698, 0.2028846180110561]}]\n"
     ]
    }
   ],
   "source": [
    "text = \"Bobcats Trade Drobnjak to Hawks for Pick (AP) AP - The Charlotte Bobcats traded center Predrag Drobnjak to the Atlanta Hawks on Monday for a second round pick in the 2005 NBA draft.,\"\n",
    "result = inter_text(text)\n",
    "print(result['detail'])"
   ]
  }
 ],
 "metadata": {
  "kernelspec": {
   "display_name": "Python 3",
   "language": "python",
   "name": "python3"
  },
  "language_info": {
   "codemirror_mode": {
    "name": "ipython",
    "version": 3
   },
   "file_extension": ".py",
   "mimetype": "text/x-python",
   "name": "python",
   "nbconvert_exporter": "python",
   "pygments_lexer": "ipython3",
   "version": "3.10.12"
  }
 },
 "nbformat": 4,
 "nbformat_minor": 2
}
