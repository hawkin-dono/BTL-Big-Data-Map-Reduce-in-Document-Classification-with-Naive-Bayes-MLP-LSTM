{
  "nbformat": 4,
  "nbformat_minor": 0,
  "metadata": {
    "colab": {
      "provenance": []
    },
    "kernelspec": {
      "name": "python3",
      "display_name": "Python 3"
    },
    "language_info": {
      "name": "python"
    }
  },
  "cells": [
    {
      "cell_type": "code",
      "source": [
        "from pyspark.sql import SparkSession\n",
        "from pyspark.ml.feature import Tokenizer, IDF, HashingTF, StopWordsRemover, CountVectorizer\n",
        "from pyspark.ml.classification import NaiveBayes\n",
        "from pyspark.ml.evaluation import MulticlassClassificationEvaluator\n",
        "from pyspark.sql.functions import col, lower, regexp_replace, udf, when\n",
        "from pyspark.ml.linalg import VectorUDT, Vectors\n",
        "import numpy as np\n",
        "import pandas as pd\n",
        "import matplotlib.pyplot as plt\n",
        "import re\n",
        "from collections import Counter"
      ],
      "metadata": {
        "id": "haXhQ9qG0WbF"
      },
      "execution_count": null,
      "outputs": []
    },
    {
      "cell_type": "code",
      "source": [
        "train_data = pd.read_csv('train.csv')\n",
        "test_data = pd.read_csv('test.csv')\n",
        "\n",
        "train_data.head(5)"
      ],
      "metadata": {
        "colab": {
          "base_uri": "https://localhost:8080/",
          "height": 206
        },
        "id": "11cV8UlA8Imz",
        "outputId": "b1985467-5608-4942-a0f1-8e37d235940c"
      },
      "execution_count": null,
      "outputs": [
        {
          "output_type": "execute_result",
          "data": {
            "text/plain": [
              "                                                text  label text_label\n",
              "0  Wall St. Bears Claw Back Into the Black (Reute...      2   Business\n",
              "1  Carlyle Looks Toward Commercial Aerospace (Reu...      2   Business\n",
              "2  Oil and Economy Cloud Stocks' Outlook (Reuters...      2   Business\n",
              "3  Iraq Halts Oil Exports from Main Southern Pipe...      2   Business\n",
              "4  Oil prices soar to all-time record, posing new...      2   Business"
            ],
            "text/html": [
              "\n",
              "  <div id=\"df-4a05762c-0d18-4af3-ae4b-bbcd8ea45472\" class=\"colab-df-container\">\n",
              "    <div>\n",
              "<style scoped>\n",
              "    .dataframe tbody tr th:only-of-type {\n",
              "        vertical-align: middle;\n",
              "    }\n",
              "\n",
              "    .dataframe tbody tr th {\n",
              "        vertical-align: top;\n",
              "    }\n",
              "\n",
              "    .dataframe thead th {\n",
              "        text-align: right;\n",
              "    }\n",
              "</style>\n",
              "<table border=\"1\" class=\"dataframe\">\n",
              "  <thead>\n",
              "    <tr style=\"text-align: right;\">\n",
              "      <th></th>\n",
              "      <th>text</th>\n",
              "      <th>label</th>\n",
              "      <th>text_label</th>\n",
              "    </tr>\n",
              "  </thead>\n",
              "  <tbody>\n",
              "    <tr>\n",
              "      <th>0</th>\n",
              "      <td>Wall St. Bears Claw Back Into the Black (Reute...</td>\n",
              "      <td>2</td>\n",
              "      <td>Business</td>\n",
              "    </tr>\n",
              "    <tr>\n",
              "      <th>1</th>\n",
              "      <td>Carlyle Looks Toward Commercial Aerospace (Reu...</td>\n",
              "      <td>2</td>\n",
              "      <td>Business</td>\n",
              "    </tr>\n",
              "    <tr>\n",
              "      <th>2</th>\n",
              "      <td>Oil and Economy Cloud Stocks' Outlook (Reuters...</td>\n",
              "      <td>2</td>\n",
              "      <td>Business</td>\n",
              "    </tr>\n",
              "    <tr>\n",
              "      <th>3</th>\n",
              "      <td>Iraq Halts Oil Exports from Main Southern Pipe...</td>\n",
              "      <td>2</td>\n",
              "      <td>Business</td>\n",
              "    </tr>\n",
              "    <tr>\n",
              "      <th>4</th>\n",
              "      <td>Oil prices soar to all-time record, posing new...</td>\n",
              "      <td>2</td>\n",
              "      <td>Business</td>\n",
              "    </tr>\n",
              "  </tbody>\n",
              "</table>\n",
              "</div>\n",
              "    <div class=\"colab-df-buttons\">\n",
              "\n",
              "  <div class=\"colab-df-container\">\n",
              "    <button class=\"colab-df-convert\" onclick=\"convertToInteractive('df-4a05762c-0d18-4af3-ae4b-bbcd8ea45472')\"\n",
              "            title=\"Convert this dataframe to an interactive table.\"\n",
              "            style=\"display:none;\">\n",
              "\n",
              "  <svg xmlns=\"http://www.w3.org/2000/svg\" height=\"24px\" viewBox=\"0 -960 960 960\">\n",
              "    <path d=\"M120-120v-720h720v720H120Zm60-500h600v-160H180v160Zm220 220h160v-160H400v160Zm0 220h160v-160H400v160ZM180-400h160v-160H180v160Zm440 0h160v-160H620v160ZM180-180h160v-160H180v160Zm440 0h160v-160H620v160Z\"/>\n",
              "  </svg>\n",
              "    </button>\n",
              "\n",
              "  <style>\n",
              "    .colab-df-container {\n",
              "      display:flex;\n",
              "      gap: 12px;\n",
              "    }\n",
              "\n",
              "    .colab-df-convert {\n",
              "      background-color: #E8F0FE;\n",
              "      border: none;\n",
              "      border-radius: 50%;\n",
              "      cursor: pointer;\n",
              "      display: none;\n",
              "      fill: #1967D2;\n",
              "      height: 32px;\n",
              "      padding: 0 0 0 0;\n",
              "      width: 32px;\n",
              "    }\n",
              "\n",
              "    .colab-df-convert:hover {\n",
              "      background-color: #E2EBFA;\n",
              "      box-shadow: 0px 1px 2px rgba(60, 64, 67, 0.3), 0px 1px 3px 1px rgba(60, 64, 67, 0.15);\n",
              "      fill: #174EA6;\n",
              "    }\n",
              "\n",
              "    .colab-df-buttons div {\n",
              "      margin-bottom: 4px;\n",
              "    }\n",
              "\n",
              "    [theme=dark] .colab-df-convert {\n",
              "      background-color: #3B4455;\n",
              "      fill: #D2E3FC;\n",
              "    }\n",
              "\n",
              "    [theme=dark] .colab-df-convert:hover {\n",
              "      background-color: #434B5C;\n",
              "      box-shadow: 0px 1px 3px 1px rgba(0, 0, 0, 0.15);\n",
              "      filter: drop-shadow(0px 1px 2px rgba(0, 0, 0, 0.3));\n",
              "      fill: #FFFFFF;\n",
              "    }\n",
              "  </style>\n",
              "\n",
              "    <script>\n",
              "      const buttonEl =\n",
              "        document.querySelector('#df-4a05762c-0d18-4af3-ae4b-bbcd8ea45472 button.colab-df-convert');\n",
              "      buttonEl.style.display =\n",
              "        google.colab.kernel.accessAllowed ? 'block' : 'none';\n",
              "\n",
              "      async function convertToInteractive(key) {\n",
              "        const element = document.querySelector('#df-4a05762c-0d18-4af3-ae4b-bbcd8ea45472');\n",
              "        const dataTable =\n",
              "          await google.colab.kernel.invokeFunction('convertToInteractive',\n",
              "                                                    [key], {});\n",
              "        if (!dataTable) return;\n",
              "\n",
              "        const docLinkHtml = 'Like what you see? Visit the ' +\n",
              "          '<a target=\"_blank\" href=https://colab.research.google.com/notebooks/data_table.ipynb>data table notebook</a>'\n",
              "          + ' to learn more about interactive tables.';\n",
              "        element.innerHTML = '';\n",
              "        dataTable['output_type'] = 'display_data';\n",
              "        await google.colab.output.renderOutput(dataTable, element);\n",
              "        const docLink = document.createElement('div');\n",
              "        docLink.innerHTML = docLinkHtml;\n",
              "        element.appendChild(docLink);\n",
              "      }\n",
              "    </script>\n",
              "  </div>\n",
              "\n",
              "\n",
              "<div id=\"df-26f8d6b4-ceaf-41cd-b232-b5170f82f035\">\n",
              "  <button class=\"colab-df-quickchart\" onclick=\"quickchart('df-26f8d6b4-ceaf-41cd-b232-b5170f82f035')\"\n",
              "            title=\"Suggest charts\"\n",
              "            style=\"display:none;\">\n",
              "\n",
              "<svg xmlns=\"http://www.w3.org/2000/svg\" height=\"24px\"viewBox=\"0 0 24 24\"\n",
              "     width=\"24px\">\n",
              "    <g>\n",
              "        <path d=\"M19 3H5c-1.1 0-2 .9-2 2v14c0 1.1.9 2 2 2h14c1.1 0 2-.9 2-2V5c0-1.1-.9-2-2-2zM9 17H7v-7h2v7zm4 0h-2V7h2v10zm4 0h-2v-4h2v4z\"/>\n",
              "    </g>\n",
              "</svg>\n",
              "  </button>\n",
              "\n",
              "<style>\n",
              "  .colab-df-quickchart {\n",
              "      --bg-color: #E8F0FE;\n",
              "      --fill-color: #1967D2;\n",
              "      --hover-bg-color: #E2EBFA;\n",
              "      --hover-fill-color: #174EA6;\n",
              "      --disabled-fill-color: #AAA;\n",
              "      --disabled-bg-color: #DDD;\n",
              "  }\n",
              "\n",
              "  [theme=dark] .colab-df-quickchart {\n",
              "      --bg-color: #3B4455;\n",
              "      --fill-color: #D2E3FC;\n",
              "      --hover-bg-color: #434B5C;\n",
              "      --hover-fill-color: #FFFFFF;\n",
              "      --disabled-bg-color: #3B4455;\n",
              "      --disabled-fill-color: #666;\n",
              "  }\n",
              "\n",
              "  .colab-df-quickchart {\n",
              "    background-color: var(--bg-color);\n",
              "    border: none;\n",
              "    border-radius: 50%;\n",
              "    cursor: pointer;\n",
              "    display: none;\n",
              "    fill: var(--fill-color);\n",
              "    height: 32px;\n",
              "    padding: 0;\n",
              "    width: 32px;\n",
              "  }\n",
              "\n",
              "  .colab-df-quickchart:hover {\n",
              "    background-color: var(--hover-bg-color);\n",
              "    box-shadow: 0 1px 2px rgba(60, 64, 67, 0.3), 0 1px 3px 1px rgba(60, 64, 67, 0.15);\n",
              "    fill: var(--button-hover-fill-color);\n",
              "  }\n",
              "\n",
              "  .colab-df-quickchart-complete:disabled,\n",
              "  .colab-df-quickchart-complete:disabled:hover {\n",
              "    background-color: var(--disabled-bg-color);\n",
              "    fill: var(--disabled-fill-color);\n",
              "    box-shadow: none;\n",
              "  }\n",
              "\n",
              "  .colab-df-spinner {\n",
              "    border: 2px solid var(--fill-color);\n",
              "    border-color: transparent;\n",
              "    border-bottom-color: var(--fill-color);\n",
              "    animation:\n",
              "      spin 1s steps(1) infinite;\n",
              "  }\n",
              "\n",
              "  @keyframes spin {\n",
              "    0% {\n",
              "      border-color: transparent;\n",
              "      border-bottom-color: var(--fill-color);\n",
              "      border-left-color: var(--fill-color);\n",
              "    }\n",
              "    20% {\n",
              "      border-color: transparent;\n",
              "      border-left-color: var(--fill-color);\n",
              "      border-top-color: var(--fill-color);\n",
              "    }\n",
              "    30% {\n",
              "      border-color: transparent;\n",
              "      border-left-color: var(--fill-color);\n",
              "      border-top-color: var(--fill-color);\n",
              "      border-right-color: var(--fill-color);\n",
              "    }\n",
              "    40% {\n",
              "      border-color: transparent;\n",
              "      border-right-color: var(--fill-color);\n",
              "      border-top-color: var(--fill-color);\n",
              "    }\n",
              "    60% {\n",
              "      border-color: transparent;\n",
              "      border-right-color: var(--fill-color);\n",
              "    }\n",
              "    80% {\n",
              "      border-color: transparent;\n",
              "      border-right-color: var(--fill-color);\n",
              "      border-bottom-color: var(--fill-color);\n",
              "    }\n",
              "    90% {\n",
              "      border-color: transparent;\n",
              "      border-bottom-color: var(--fill-color);\n",
              "    }\n",
              "  }\n",
              "</style>\n",
              "\n",
              "  <script>\n",
              "    async function quickchart(key) {\n",
              "      const quickchartButtonEl =\n",
              "        document.querySelector('#' + key + ' button');\n",
              "      quickchartButtonEl.disabled = true;  // To prevent multiple clicks.\n",
              "      quickchartButtonEl.classList.add('colab-df-spinner');\n",
              "      try {\n",
              "        const charts = await google.colab.kernel.invokeFunction(\n",
              "            'suggestCharts', [key], {});\n",
              "      } catch (error) {\n",
              "        console.error('Error during call to suggestCharts:', error);\n",
              "      }\n",
              "      quickchartButtonEl.classList.remove('colab-df-spinner');\n",
              "      quickchartButtonEl.classList.add('colab-df-quickchart-complete');\n",
              "    }\n",
              "    (() => {\n",
              "      let quickchartButtonEl =\n",
              "        document.querySelector('#df-26f8d6b4-ceaf-41cd-b232-b5170f82f035 button');\n",
              "      quickchartButtonEl.style.display =\n",
              "        google.colab.kernel.accessAllowed ? 'block' : 'none';\n",
              "    })();\n",
              "  </script>\n",
              "</div>\n",
              "\n",
              "    </div>\n",
              "  </div>\n"
            ],
            "application/vnd.google.colaboratory.intrinsic+json": {
              "type": "dataframe",
              "variable_name": "train_data"
            }
          },
          "metadata": {},
          "execution_count": 2
        }
      ]
    },
    {
      "cell_type": "code",
      "source": [
        "train_data['label'].value_counts().plot(kind='bar', figsize=(8, 4))\n",
        "plt.xlabel('Label')\n",
        "plt.ylabel('Frequency')\n",
        "plt.title('Label Distribution')"
      ],
      "metadata": {
        "colab": {
          "base_uri": "https://localhost:8080/",
          "height": 423
        },
        "id": "VGnF3GQPHg8t",
        "outputId": "63d8a45f-9f09-4f87-ce42-cd4da2584e52"
      },
      "execution_count": null,
      "outputs": [
        {
          "output_type": "execute_result",
          "data": {
            "text/plain": [
              "Text(0.5, 1.0, 'Label Distribution')"
            ]
          },
          "metadata": {},
          "execution_count": 3
        },
        {
          "output_type": "display_data",
          "data": {
            "text/plain": [
              "<Figure size 800x400 with 1 Axes>"
            ],
            "image/png": "[encoded data removed]"
          },
          "metadata": {}
        }
      ]
    },
    {
      "cell_type": "code",
      "source": [
        "spark = SparkSession.builder \\\n",
        "    .appName(\"Document Classification\") \\\n",
        "    .getOrCreate()\n",
        "\n",
        "# load data\n",
        "train_pd = pd.read_csv('train.csv')\n",
        "test_pd = pd.read_csv('test.csv')\n",
        "# turn into dataframe\n",
        "train_df = spark.createDataFrame(train_pd)\n",
        "test_df = spark.createDataFrame(test_pd)\n",
        "\n",
        "train_df.show(10)"
      ],
      "metadata": {
        "colab": {
          "base_uri": "https://localhost:8080/"
        },
        "id": "R6QENHTp536r",
        "outputId": "666d3035-6710-4230-9fed-45274f53bfc0"
      },
      "execution_count": null,
      "outputs": [
        {
          "output_type": "stream",
          "name": "stdout",
          "text": [
            "+--------------------+-----+----------+\n",
            "|                text|label|text_label|\n",
            "+--------------------+-----+----------+\n",
            "|Wall St. Bears Cl...|    2|  Business|\n",
            "|Carlyle Looks Tow...|    2|  Business|\n",
            "|Oil and Economy C...|    2|  Business|\n",
            "|Iraq Halts Oil Ex...|    2|  Business|\n",
            "|Oil prices soar t...|    2|  Business|\n",
            "|Stocks End Up, Bu...|    2|  Business|\n",
            "|Money Funds Fell ...|    2|  Business|\n",
            "|Fed minutes show ...|    2|  Business|\n",
            "|Safety Net (Forbe...|    2|  Business|\n",
            "|Wall St. Bears Cl...|    2|  Business|\n",
            "+--------------------+-----+----------+\n",
            "only showing top 10 rows\n",
            "\n"
          ]
        }
      ]
    },
    {
      "cell_type": "code",
      "source": [
        "train_df.select('label').distinct().show()\n",
        "train_df.printSchema()"
      ],
      "metadata": {
        "colab": {
          "base_uri": "https://localhost:8080/"
        },
        "id": "Psq0FjyQwE92",
        "outputId": "0ebb1632-862a-47c3-ed24-5f5f6ab4d138"
      },
      "execution_count": null,
      "outputs": [
        {
          "output_type": "stream",
          "name": "stdout",
          "text": [
            "+-----+\n",
            "|label|\n",
            "+-----+\n",
            "|    0|\n",
            "|    1|\n",
            "|    3|\n",
            "|    2|\n",
            "+-----+\n",
            "\n",
            "root\n",
            " |-- text: string (nullable = true)\n",
            " |-- label: long (nullable = true)\n",
            " |-- text_label: string (nullable = true)\n",
            "\n"
          ]
        }
      ]
    },
    {
      "cell_type": "code",
      "source": [
        "def preprocess_text(df):\n",
        "    # int label\n",
        "    df = df.withColumn('label', col('label').cast('int'))\n",
        "    # remove punctuation\n",
        "    df = df.withColumn('text', regexp_replace(col('text'), r'[^\\w\\s]', ''))\n",
        "    # convert to lowercase\n",
        "    df = df.withColumn('text', lower(col('text')))\n",
        "    # tokenizer\n",
        "    tokenizer = Tokenizer(inputCol='text', outputCol='words')\n",
        "    df = tokenizer.transform(df)\n",
        "    return df\n",
        "\n",
        "train_df = preprocess_text(train_df)\n",
        "test_df = preprocess_text(test_df)\n",
        "\n",
        "train_df.show(10)"
      ],
      "metadata": {
        "colab": {
          "base_uri": "https://localhost:8080/"
        },
        "id": "g5nZnqNUdKrr",
        "outputId": "5760897e-035a-4f8d-f67e-c948a7ceaad2"
      },
      "execution_count": null,
      "outputs": [
        {
          "output_type": "stream",
          "name": "stdout",
          "text": [
            "+--------------------+-----+----------+--------------------+\n",
            "|                text|label|text_label|               words|\n",
            "+--------------------+-----+----------+--------------------+\n",
            "|wall st bears cla...|    2|  Business|[wall, st, bears,...|\n",
            "|carlyle looks tow...|    2|  Business|[carlyle, looks, ...|\n",
            "|oil and economy c...|    2|  Business|[oil, and, econom...|\n",
            "|iraq halts oil ex...|    2|  Business|[iraq, halts, oil...|\n",
            "|oil prices soar t...|    2|  Business|[oil, prices, soa...|\n",
            "|stocks end up but...|    2|  Business|[stocks, end, up,...|\n",
            "|money funds fell ...|    2|  Business|[money, funds, fe...|\n",
            "|fed minutes show ...|    2|  Business|[fed, minutes, sh...|\n",
            "|safety net forbes...|    2|  Business|[safety, net, for...|\n",
            "|wall st bears cla...|    2|  Business|[wall, st, bears,...|\n",
            "+--------------------+-----+----------+--------------------+\n",
            "only showing top 10 rows\n",
            "\n"
          ]
        }
      ]
    },
    {
      "cell_type": "markdown",
      "source": [
        "Sử dụng CountVectorizer"
      ],
      "metadata": {
        "id": "vOlcE1zZoY41"
      }
    },
    {
      "cell_type": "code",
      "source": [
        "def process_text_with_countvectorizer(df, countvectorizer_model=None):\n",
        "    # countvectorizer\n",
        "    if countvectorizer_model is None:\n",
        "        countvectorizer = CountVectorizer(inputCol='words', outputCol='Features')\n",
        "        countvectorizer_model = countvectorizer.fit(df)\n",
        "\n",
        "    countvectorizer_df = countvectorizer_model.transform(df)\n",
        "    countvectorizer_df = countvectorizer_df.select('label', 'Features')\n",
        "    return countvectorizer_df, countvectorizer_model\n",
        "\n",
        "countvectorizer_train_df, countvectorizer_model = process_text_with_countvectorizer(train_df)\n",
        "countvectorizer_test_df, _ = process_text_with_countvectorizer(test_df, countvectorizer_model)"
      ],
      "metadata": {
        "id": "2W64OQbGoQRe"
      },
      "execution_count": null,
      "outputs": []
    },
    {
      "cell_type": "code",
      "source": [
        "countvectorizer_train_df.show(10)"
      ],
      "metadata": {
        "colab": {
          "base_uri": "https://localhost:8080/"
        },
        "id": "FcgvkQCcqyjG",
        "outputId": "578826b2-5784-46ec-df7f-5b025ac8e3d8"
      },
      "execution_count": null,
      "outputs": [
        {
          "output_type": "stream",
          "name": "stdout",
          "text": [
            "+-----+--------------------+\n",
            "|label|            Features|\n",
            "+-----+--------------------+\n",
            "|    2|(102182,[0,3,4,23...|\n",
            "|    2|(102182,[0,2,3,4,...|\n",
            "|    2|(102182,[0,3,4,6,...|\n",
            "|    2|(102182,[0,2,3,5,...|\n",
            "|    2|(102182,[0,1,2,3,...|\n",
            "|    2|(102182,[0,2,3,7,...|\n",
            "|    2|(102182,[0,1,3,4,...|\n",
            "|    2|(102182,[0,2,3,5,...|\n",
            "|    2|(102182,[0,1,2,3,...|\n",
            "|    2|(102182,[0,3,4,16...|\n",
            "+-----+--------------------+\n",
            "only showing top 10 rows\n",
            "\n"
          ]
        }
      ]
    },
    {
      "cell_type": "markdown",
      "source": [
        "Sử dụng TF-IDF"
      ],
      "metadata": {
        "id": "4eclQzeNoT6-"
      }
    },
    {
      "cell_type": "code",
      "source": [
        "def process_text_with_tfidf(df, idf_model=None):\n",
        "    #tf-idf\n",
        "    hashing_tf = HashingTF(inputCol='words', outputCol='rawFeatures', numFeatures=200000)\n",
        "    tf = hashing_tf.transform(df)\n",
        "\n",
        "    if idf_model is None:\n",
        "        idf = IDF(inputCol='rawFeatures', outputCol='Features')\n",
        "        idf_model = idf.fit(tf)\n",
        "\n",
        "    tfidf = idf_model.transform(tf)\n",
        "    tfidf = tfidf.select('label', 'Features')\n",
        "    return tfidf, idf_model\n",
        "\n",
        "# cặp dữ liệu (label, features)\n",
        "tfidf_train_df, idf_model = process_text_with_tfidf(train_df)\n",
        "tfidf_test_df, _ = process_text_with_tfidf(test_df, idf_model)\n",
        "\n",
        "tfidf_train_df.show(10)"
      ],
      "metadata": {
        "colab": {
          "base_uri": "https://localhost:8080/"
        },
        "id": "PGT7CnUjiHsg",
        "outputId": "bd504129-51b7-42ea-e7cf-b653c7af4a55"
      },
      "execution_count": null,
      "outputs": [
        {
          "output_type": "stream",
          "name": "stdout",
          "text": [
            "+-----+--------------------+\n",
            "|label|            Features|\n",
            "+-----+--------------------+\n",
            "|    2|(200000,[10551,16...|\n",
            "|    2|(200000,[7687,128...|\n",
            "|    2|(200000,[6035,151...|\n",
            "|    2|(200000,[6035,608...|\n",
            "|    2|(200000,[6035,160...|\n",
            "|    2|(200000,[5016,603...|\n",
            "|    2|(200000,[1466,439...|\n",
            "|    2|(200000,[1466,237...|\n",
            "|    2|(200000,[2475,122...|\n",
            "|    2|(200000,[10551,16...|\n",
            "+-----+--------------------+\n",
            "only showing top 10 rows\n",
            "\n"
          ]
        }
      ]
    },
    {
      "cell_type": "code",
      "source": [
        "nb = NaiveBayes(featuresCol='Features', labelCol='label', modelType='multinomial')\n",
        "\n",
        "model_use_countvector = nb.fit(countvectorizer_train_df)\n",
        "predictions_use_countvector = model_use_countvector.transform(countvectorizer_test_df)\n",
        "\n",
        "model_use_tfidf = nb.fit(tfidf_train_df)\n",
        "predictions_use_tfidf = model_use_tfidf.transform(tfidf_test_df)"
      ],
      "metadata": {
        "id": "cok5yKFPiTwb"
      },
      "execution_count": null,
      "outputs": []
    },
    {
      "cell_type": "code",
      "source": [
        "evaluator = MulticlassClassificationEvaluator(labelCol=\"label\", predictionCol=\"prediction\", metricName=\"accuracy\")\n",
        "accuracy_use_countvector = evaluator.evaluate(predictions_use_countvector)\n",
        "print(f\"Độ chính xác khi xử lí dữ liệu với Countvectorizer: {accuracy_use_countvector}\")\n",
        "\n",
        "accuracy_use_tfidf = evaluator.evaluate(predictions_use_tfidf)\n",
        "print(f\"Độ chính xác khi xử lí dữ liệu với TF-IDF: {accuracy_use_tfidf}\")"
      ],
      "metadata": {
        "colab": {
          "base_uri": "https://localhost:8080/"
        },
        "id": "CB8llzViwaeT",
        "outputId": "32222422-663a-48d6-c09f-3ec5bcc57467"
      },
      "execution_count": null,
      "outputs": [
        {
          "output_type": "stream",
          "name": "stdout",
          "text": [
            "Độ chính xác khi xử lí dữ liệu với Countvectorizer: 0.9007894736842105\n",
            "Độ chính xác khi xử lí dữ liệu với TF-IDF: 0.904342105263158\n"
          ]
        }
      ]
    },
    {
      "cell_type": "code",
      "source": [
        "predictions_use_countvector.groupBy(\"label\", \"prediction\").count().show()"
      ],
      "metadata": {
        "colab": {
          "base_uri": "https://localhost:8080/"
        },
        "id": "4u0N5fq_pMNy",
        "outputId": "6f26504a-0e3a-4ee3-f8b0-2e818e023733"
      },
      "execution_count": null,
      "outputs": [
        {
          "output_type": "stream",
          "name": "stdout",
          "text": [
            "+-----+----------+-----+\n",
            "|label|prediction|count|\n",
            "+-----+----------+-----+\n",
            "|    2|       1.0|   18|\n",
            "|    1|       0.0|   22|\n",
            "|    0|       2.0|   92|\n",
            "|    1|       3.0|   11|\n",
            "|    3|       1.0|   18|\n",
            "|    0|       3.0|   45|\n",
            "|    0|       0.0| 1702|\n",
            "|    1|       2.0|    6|\n",
            "|    2|       3.0|  200|\n",
            "|    3|       2.0|  139|\n",
            "|    3|       3.0| 1672|\n",
            "|    2|       2.0| 1611|\n",
            "|    1|       1.0| 1861|\n",
            "|    3|       0.0|   71|\n",
            "|    2|       0.0|   71|\n",
            "|    0|       1.0|   61|\n",
            "+-----+----------+-----+\n",
            "\n"
          ]
        }
      ]
    },
    {
      "cell_type": "code",
      "source": [
        "predictions_use_tfidf.groupBy(\"label\", \"prediction\").count().show()"
      ],
      "metadata": {
        "colab": {
          "base_uri": "https://localhost:8080/"
        },
        "id": "C11uMooepfwb",
        "outputId": "a83abdfb-38ca-4914-9948-e8c60eab5c1a"
      },
      "execution_count": null,
      "outputs": [
        {
          "output_type": "stream",
          "name": "stdout",
          "text": [
            "+-----+----------+-----+\n",
            "|label|prediction|count|\n",
            "+-----+----------+-----+\n",
            "|    2|       1.0|   19|\n",
            "|    1|       0.0|   19|\n",
            "|    0|       2.0|   93|\n",
            "|    1|       3.0|   13|\n",
            "|    3|       1.0|   10|\n",
            "|    0|       3.0|   50|\n",
            "|    0|       0.0| 1698|\n",
            "|    1|       2.0|    6|\n",
            "|    2|       3.0|  191|\n",
            "|    3|       2.0|  139|\n",
            "|    3|       3.0| 1688|\n",
            "|    2|       2.0| 1625|\n",
            "|    1|       1.0| 1862|\n",
            "|    3|       0.0|   63|\n",
            "|    2|       0.0|   65|\n",
            "|    0|       1.0|   59|\n",
            "+-----+----------+-----+\n",
            "\n"
          ]
        }
      ]
    },
    {
      "cell_type": "code",
      "source": [
        "def infer_countvector(text, true_label):\n",
        "    data = [{'text': text, 'label': true_label}]\n",
        "    text_df = spark.createDataFrame(data)\n",
        "    text_df = preprocess_text(text_df)\n",
        "    processed_text_df, _ = process_text_with_countvectorizer(text_df, countvectorizer_model)\n",
        "    prediction = model_use_countvector.transform(processed_text_df)\n",
        "    return prediction\n",
        "\n",
        "def infer_tfidf(text, true_label):\n",
        "    data = [{'text': text, 'label': true_label}]\n",
        "    text_df = spark.createDataFrame(data)\n",
        "    text_df = preprocess_text(text_df)\n",
        "    processed_text_df, _ = process_text_with_tfidf(text_df, idf_model)\n",
        "    prediction = model_use_tfidf.transform(processed_text_df)\n",
        "    return prediction"
      ],
      "metadata": {
        "id": "Rc3GNomUdmqM"
      },
      "execution_count": null,
      "outputs": []
    },
    {
      "cell_type": "markdown",
      "source": [
        "Ví dụ về phân loại văn bản (infer)"
      ],
      "metadata": {
        "id": "KOlXER3AsQWu"
      }
    },
    {
      "cell_type": "code",
      "source": [
        "import random\n",
        "\n",
        "total_rows = test_df.count()\n",
        "random_index = random.randint(0, total_rows - 1)\n",
        "\n",
        "sample_row = test_df.collect()[random_index]\n",
        "sample_text = sample_row['text']\n",
        "true_label = sample_row['label']\n",
        "\n",
        "print(sample_text)\n",
        "#infer\n",
        "predicted_label_use_countvector = infer_countvector(sample_text, true_label)\n",
        "predicted_label_use_tfidf = infer_tfidf(sample_text, true_label)"
      ],
      "metadata": {
        "colab": {
          "base_uri": "https://localhost:8080/"
        },
        "id": "O5HihI8y7Tfa",
        "outputId": "5cfd47dd-91ec-4c38-cffe-023cd13b3199"
      },
      "execution_count": null,
      "outputs": [
        {
          "output_type": "stream",
          "name": "stdout",
          "text": [
            "ferguson stirs the pot ahead of arsenal visit manchester united manager sir alex ferguson has raised the stakes before the carling cup clash with arsenal at old trafford by claiming that chelsea are now the team to beat\n"
          ]
        }
      ]
    },
    {
      "cell_type": "code",
      "source": [
        "predicted_label_use_countvector.groupBy(\"label\", \"prediction\").count().show()"
      ],
      "metadata": {
        "colab": {
          "base_uri": "https://localhost:8080/"
        },
        "id": "I9T6fTfFqDIW",
        "outputId": "7717f625-26c8-421d-e8f4-c48bb615defb"
      },
      "execution_count": null,
      "outputs": [
        {
          "output_type": "stream",
          "name": "stdout",
          "text": [
            "+-----+----------+-----+\n",
            "|label|prediction|count|\n",
            "+-----+----------+-----+\n",
            "|    1|       1.0|    1|\n",
            "+-----+----------+-----+\n",
            "\n"
          ]
        }
      ]
    },
    {
      "cell_type": "code",
      "source": [
        "predicted_label_use_tfidf.groupBy(\"label\", \"prediction\").count().show()"
      ],
      "metadata": {
        "colab": {
          "base_uri": "https://localhost:8080/"
        },
        "id": "meUnNIHFqCVX",
        "outputId": "6b173d25-fbed-40e3-cdf4-7a754d40aa36"
      },
      "execution_count": null,
      "outputs": [
        {
          "output_type": "stream",
          "name": "stdout",
          "text": [
            "+-----+----------+-----+\n",
            "|label|prediction|count|\n",
            "+-----+----------+-----+\n",
            "|    1|       1.0|    1|\n",
            "+-----+----------+-----+\n",
            "\n"
          ]
        }
      ]
    },
    {
      "cell_type": "markdown",
      "source": [
        "# Sử dụng nhiều cụm"
      ],
      "metadata": {
        "id": "H3H_RTMAeqzC"
      }
    },
    {
      "cell_type": "code",
      "source": [
        "spark_with_more_clusters = SparkSession.builder \\\n",
        "    .appName(\"Document Classification\") \\\n",
        "    .config(\"spark.driver.memory\", \"16g\") \\\n",
        "    .config(\"spark.executor.memory\", \"16g\") \\\n",
        "    .config(\"spark.executor.cores\", \"4\") \\\n",
        "    .config(\"spark.executor.instances\", \"2\") \\\n",
        "    .getOrCreate()"
      ],
      "metadata": {
        "id": "-sFgHMK0ep-7"
      },
      "execution_count": null,
      "outputs": []
    },
    {
      "cell_type": "code",
      "source": [],
      "metadata": {
        "id": "1iC4-DzPe8gX"
      },
      "execution_count": null,
      "outputs": []
    },
    {
      "cell_type": "code",
      "source": [
        "# data = pd.DataFrame(newgroups.data, columns=['text'])\n",
        "# data['label'] = newgroups.target\n",
        "# data['label'] = data['label'].apply(lambda x: newgroups.target_names[x])\n",
        "\n",
        "# # 1. Khởi tạo SparkSession\n",
        "# spark = SparkSession.builder.appName(\"NaiveBayesWithMapReduce\").getOrCreate()\n",
        "# sc = spark.sparkContext\n",
        "\n",
        "# # 2. Tải dữ liệu 20 Newsgroups từ scikit-learn (tất cả các lớp)\n",
        "# newsgroups = fetch_20newsgroups(subset='train', remove=('headers', 'footers', 'quotes'))\n",
        "\n",
        "# # 3. Tiền xử lý dữ liệu: Sử dụng TfidfVectorizer thay vì CountVectorizer để nâng cao chất lượng đặc trưng\n",
        "# vectorizer = TfidfVectorizer(max_features=2000)  # Tăng số lượng đặc trưng\n",
        "# X = vectorizer.fit_transform(newsgroups.data)\n",
        "# y = newsgroups.target\n",
        "\n",
        "# # Chuyển đổi sang RDD cho PySpark\n",
        "# data_rdd = sc.parallelize([(label, vector.toarray()[0]) for label, vector in zip(y, X)])\n",
        "\n",
        "# # 4. MapReduce Implementation of Naive Bayes\n",
        "# # Tính toán số lượng tài liệu và số lượng tài liệu cho mỗi lớp\n",
        "# doc_count = data_rdd.map(lambda x: (x[0], 1)).reduceByKey(lambda a, b: a + b).collectAsMap()\n",
        "# total_docs = sum(doc_count.values())\n",
        "\n",
        "# # Tính toán xác suất tiên nghiệm P(y)\n",
        "# priors = {k: v / total_docs for k, v in doc_count.items()}\n",
        "\n",
        "# # Tính toán số lần xuất hiện của từ trong mỗi lớp\n",
        "# word_counts = data_rdd.flatMap(lambda x: [((x[0], idx), val) for idx, val in enumerate(x[1])]) \\\n",
        "#                       .reduceByKey(lambda a, b: a + b)\n",
        "\n",
        "# # Tính tổng số từ trong mỗi lớp\n",
        "# total_word_counts = word_counts.map(lambda x: (x[0][0], x[1])).reduceByKey(lambda a, b: a + b).collectAsMap()\n",
        "\n",
        "# # Tính xác suất có điều kiện P(x|y) với Laplace Smoothing (thêm 1 vào mỗi số đếm)\n",
        "# conditional_probs = word_counts.map(lambda x: (x[0],\n",
        "#     (x[1] + 1) / (total_word_counts[x[0][0]] + len(vectorizer.get_feature_names_out()))))\n",
        "\n",
        "# # Chuyển đổi conditional_probs thành dạng dễ dùng\n",
        "# conditional_probs = conditional_probs.collectAsMap()\n",
        "\n",
        "# def predict(doc):\n",
        "#     words = np.array(doc)\n",
        "#     scores = {}\n",
        "#     for c in priors:\n",
        "#         score = np.log(priors[c])  # Log-likelihood để tránh underflow\n",
        "#         for idx, count in enumerate(words):\n",
        "#             score += count * np.log(conditional_probs.get((c, idx), 1e-6))  # Thêm smoothing cho các từ chưa xuất hiện\n",
        "#         scores[c] = score\n",
        "#     return max(scores, key=scores.get)\n",
        "\n",
        "# # 6. Kiểm tra trên tập dữ liệu\n",
        "# test_data = fetch_20newsgroups(subset='test', remove=('headers', 'footers', 'quotes'))\n",
        "# X_test = vectorizer.transform(test_data.data)\n",
        "# y_test = test_data.target\n",
        "\n",
        "# test_rdd = sc.parallelize([(label, vector.toarray()[0]) for label, vector in zip(y_test, X_test)])\n",
        "# predictions = test_rdd.map(lambda x: (x[0], predict(x[1])))\n",
        "\n",
        "# # 7. Tính độ chính xác\n",
        "# accuracy = predictions.filter(lambda x: x[0] == x[1]).count() / test_rdd.count()\n",
        "# print(f\"Accuracy: {accuracy * 100:.2f}%\")\n",
        "\n",
        "# # 8. Kết thúc SparkSession\n",
        "# spark.stop()"
      ],
      "metadata": {
        "id": "bPVv4IjS8G2S"
      },
      "execution_count": null,
      "outputs": []
    }
  ]
}